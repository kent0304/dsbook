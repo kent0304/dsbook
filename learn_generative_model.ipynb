{
  "nbformat": 4,
  "nbformat_minor": 0,
  "metadata": {
    "colab": {
      "name": "learn_generative_model.ipynb",
      "provenance": [],
      "private_outputs": true
    },
    "kernelspec": {
      "name": "python3",
      "display_name": "Python 3"
    },
    "accelerator": "GPU"
  },
  "cells": [
    {
      "cell_type": "markdown",
      "metadata": {
        "id": "QB7BF7_SZeiW",
        "colab_type": "text"
      },
      "source": [
        "[Open with Colab](https://colab.research.google.com/github/dsbook/dsbook/blob/master/learn_generative_model.ipynb)"
      ]
    },
    {
      "cell_type": "markdown",
      "metadata": {
        "id": "O4PuF_TJTlwz",
        "colab_type": "text"
      },
      "source": [
        "OpenMNTと必要なライブラリをインストールします．"
      ]
    },
    {
      "cell_type": "code",
      "metadata": {
        "id": "Or56lFl-j5t9",
        "colab_type": "code",
        "colab": {}
      },
      "source": [
        "!git clone https://github.com/OpenNMT/OpenNMT-py.git -b 0.9.2\n",
        "!cd OpenNMT-py;pip install -r requirements.txt"
      ],
      "execution_count": 0,
      "outputs": []
    },
    {
      "cell_type": "markdown",
      "metadata": {
        "id": "BcpbRejPT1bJ",
        "colab_type": "text"
      },
      "source": [
        "データの読み込みと保存のためGoogle Driveに接続します．\n",
        "\n",
        "「Go to this URL in a browser: https:// ...」と表示されるのでURLをクリックし，使用するアカウントを選択します．\n",
        "\n",
        "次のページで「許可」ボタンをクリックするとコードが表示されますので，\n",
        "そのコードを「Enter your authorization code:」の下の入力欄に入れ，エンターキーを押してください．\n",
        "\n"
      ]
    },
    {
      "cell_type": "code",
      "metadata": {
        "id": "Tl_QvOmCh-a_",
        "colab_type": "code",
        "colab": {}
      },
      "source": [
        "from google.colab import drive\n",
        "drive.mount('./drive')"
      ],
      "execution_count": 0,
      "outputs": []
    },
    {
      "cell_type": "markdown",
      "metadata": {
        "id": "XjusKPSDWDpj",
        "colab_type": "text"
      },
      "source": [
        "学習を実行します．学習は2時間程度で終了します．"
      ]
    },
    {
      "cell_type": "code",
      "metadata": {
        "id": "SqH0muc2kLUX",
        "colab_type": "code",
        "colab": {}
      },
      "source": [
        "!python OpenNMT-py/preprocess.py -train_src \"drive/My Drive/dsbook/OpenNMT/train.src\" -train_tgt \"drive/My Drive/dsbook/OpenNMT/train.tgt\" \\\n",
        " -valid_src \"drive/My Drive/dsbook/OpenNMT/dev.src\" -valid_tgt \"drive/My Drive/dsbook/OpenNMT/dev.tgt\" -save_data dlg \n",
        "!python OpenNMT-py/train.py -gpu_ranks 0 --save_checkpoint_steps 50000 --train_steps 100000 -save_model \"drive/My Drive/dsbook/OpenNMT/dlg_model\" -data dlg"
      ],
      "execution_count": 0,
      "outputs": []
    },
    {
      "cell_type": "markdown",
      "metadata": {
        "id": "1N9x3IjkWLtC",
        "colab_type": "text"
      },
      "source": [
        "学習結果を表示します．"
      ]
    },
    {
      "cell_type": "code",
      "metadata": {
        "id": "7hppJObpq35y",
        "colab_type": "code",
        "colab": {}
      },
      "source": [
        "!python OpenNMT-py/translate.py -model \"drive/My Drive/dsbook/OpenNMT/dlg_model_step_100000.pt\" -src \"drive/My Drive/dsbook/OpenNMT/test.src\" -output pred.txt -replace_unk -verbose"
      ],
      "execution_count": 0,
      "outputs": []
    }
  ]
}
