{
  "nbformat": 4,
  "nbformat_minor": 0,
  "metadata": {
    "colab": {
      "name": "BERT_dbdc_finetuning.ipynb",
      "provenance": [],
      "private_outputs": true,
      "collapsed_sections": []
    },
    "kernelspec": {
      "name": "python3",
      "display_name": "Python 3"
    },
    "accelerator": "GPU"
  },
  "cells": [
    {
      "cell_type": "markdown",
      "metadata": {
        "id": "gMBVb4ZB2txG",
        "colab_type": "text"
      },
      "source": [
        "[Open with Colab](https://colab.research.google.com/github/dsbook/dsbook/blob/master/bert_dbdc_finetuning.ipynb)"
      ]
    },
    {
      "cell_type": "markdown",
      "metadata": {
        "id": "iJ7NUp6d2-yK",
        "colab_type": "text"
      },
      "source": [
        "必要なライブラリであるtransformersとtensorboardXをインストールします．\n",
        "\n",
        "同時に，transformersのソースコードもGitHubからダウンロードします．"
      ]
    },
    {
      "cell_type": "code",
      "metadata": {
        "id": "Z97xnv0yNi98",
        "colab_type": "code",
        "colab": {}
      },
      "source": [
        "!pip install transformers==2.1.1\n",
        "!pip install tensorboardX==1.9\n",
        "!git clone https://github.com/huggingface/transformers.git -b v2.1.1"
      ],
      "execution_count": 0,
      "outputs": []
    },
    {
      "cell_type": "markdown",
      "metadata": {
        "id": "GDYhjvEj3ePL",
        "colab_type": "text"
      },
      "source": [
        "データの読み込みと保存のためGoogle Driveに接続します．\n",
        "\n",
        "「Go to this URL in a browser: https:// ...」と表示されるのでURLをクリックし，使用するアカウントを選択します．\n",
        "\n",
        "次のページで「許可」ボタンをクリックするとコードが表示されますので，\n",
        "そのコードを「Enter your authorization code:」の下の入力欄に入れ，エンターキーを押してください．"
      ]
    },
    {
      "cell_type": "code",
      "metadata": {
        "id": "GjZNLm5tPAkS",
        "colab_type": "code",
        "colab": {}
      },
      "source": [
        "from google.colab import drive\n",
        "drive.mount('./drive')"
      ],
      "execution_count": 0,
      "outputs": []
    },
    {
      "cell_type": "markdown",
      "metadata": {
        "id": "k6rlKtdY3g9W",
        "colab_type": "text"
      },
      "source": [
        "対話破綻検出のためのBERTのファインチューニングを実行します．\n",
        "\n"
      ]
    },
    {
      "cell_type": "code",
      "metadata": {
        "id": "Tj2ATbHmt9Wp",
        "colab_type": "code",
        "colab": {}
      },
      "source": [
        "!python transformers/examples/run_glue.py --data_dir /content/drive/My\\ Drive/dsbook/dbdc_bert/  --overwrite_output_dir \\\n",
        "--model_type bert --model_name_or_path bert-base-multilingual-cased  --task_name STS-B --evaluate_during_training \\\n",
        "--output_dir /content/drive/My\\ Drive/dsbook/dbdc_bert/out/ --do_train --do_eval --per_gpu_train_batch_size 16"
      ],
      "execution_count": 0,
      "outputs": []
    }
  ]
}
